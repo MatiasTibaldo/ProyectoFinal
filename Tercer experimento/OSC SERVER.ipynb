{
 "cells": [
  {
   "cell_type": "code",
   "execution_count": 1,
   "metadata": {},
   "outputs": [
    {
     "name": "stdout",
     "output_type": "stream",
     "text": [
      "SVC(C=1.0, cache_size=200, class_weight=None, coef0=0.0,\n",
      "    decision_function_shape='ovo', degree=3, gamma='scale', kernel='rbf',\n",
      "    max_iter=-1, probability=False, random_state=None, shrinking=True,\n",
      "    tol=0.001, verbose=False)\n"
     ]
    }
   ],
   "source": [
    "import pickle\n",
    "filename = 'SVM_model_izq_der.sav'\n",
    "\n",
    "# load the model from disk\n",
    "svm_model = pickle.load(open(filename, 'rb'))\n",
    "print(svm_model)"
   ]
  },
  {
   "cell_type": "code",
   "execution_count": 2,
   "metadata": {},
   "outputs": [],
   "source": [
    "def round(n):\n",
    "    dec = n - int(n)\n",
    "    rst = int(n) if dec < 0.5 else int(n)+1\n",
    "    return rst"
   ]
  },
  {
   "cell_type": "code",
   "execution_count": 3,
   "metadata": {},
   "outputs": [],
   "source": [
    "import argparse\n",
    "import numpy as np\n",
    "\n",
    "from pythonosc import dispatcher\n",
    "from pythonosc import osc_server\n",
    "\n",
    "import easydict\n",
    "\n",
    "import matplotlib.pyplot as plt\n",
    "\n",
    "from termcolor import colored\n",
    "import threading\n",
    "\n",
    "data=[]\n",
    "output=[]\n",
    "inicio=0\n",
    "fin=0\n",
    "pestañeo=0\n",
    "\n",
    "def eeg_handler(unused_addr, args, ch1, ch2, ch3, ch4):\n",
    "    global inicio, fin, pestañeo\n",
    "    data.append([ch2,ch3])\n",
    "    myarray = [[ch2,ch3]]\n",
    "    output.append(svm_model.predict(myarray))\n",
    "    size=len(output)\n",
    "    if size>55:\n",
    "        if output[size-1]!=0 and np.sum(output[size-50:size-2])==0:\n",
    "            inicio=size\n",
    "        if output[size-51]!=0 and np.sum(output[size-50:size-1])==0 and inicio!=0:\n",
    "            fin=size-50\n",
    "        if fin-inicio>50:\n",
    "            pestañeo = round(np.mean(output[inicio:fin]))\n",
    "            inicio=0\n",
    "            fin=0\n",
    "            if(pestañeo==1):\n",
    "                print(colored('Izquierdo', 'red'))\n",
    "            if(pestañeo==2):\n",
    "                print(colored('Derecho', 'green'))\n",
    "            pestañeo=0\n",
    "\n",
    "    \n",
    "args = easydict.EasyDict({\n",
    "   \"ip\":  \"192.168.0.9\",\n",
    "   \"port\": 5000\n",
    "})\n",
    "\n",
    "new_dispatcher = dispatcher.Dispatcher()\n",
    "new_dispatcher.map(\"/Person0/eeg/0\", eeg_handler, \"EEG\")\n",
    "new_dispatcher.map(\"/muse/eeg\", eeg_handler, \"EEG\")\n",
    "\n",
    "server = osc_server.ThreadingOSCUDPServer(\n",
    "    (args.ip, args.port), new_dispatcher)\n",
    "    \n",
    "def connect_to_tcp():\n",
    "    print(\"starting\")\n",
    "    # Connect to TCP Port\n",
    "    \n",
    "\n",
    "    print(\"Serving on {}\".format(server.server_address))\n",
    "\n",
    "    # Collect from port\n",
    "    #server.serve_forever(poll_interval=0.2) \n",
    "    st = threading.Thread(target=server.serve_forever)\n",
    "    st.start()\n",
    "\n"
   ]
  },
  {
   "cell_type": "code",
   "execution_count": 4,
   "metadata": {
    "scrolled": true
   },
   "outputs": [
    {
     "name": "stdout",
     "output_type": "stream",
     "text": [
      "starting\n",
      "Serving on ('192.168.0.9', 5000)\n",
      "\u001b[31mIzquierdo\u001b[0m\n",
      "\u001b[31mIzquierdo\u001b[0m\n",
      "\u001b[32mDerecho\u001b[0m\n",
      "\u001b[31mIzquierdo\u001b[0m\n",
      "\u001b[32mDerecho\u001b[0m\n"
     ]
    }
   ],
   "source": [
    "connect_to_tcp()\n"
   ]
  },
  {
   "cell_type": "code",
   "execution_count": 5,
   "metadata": {},
   "outputs": [
    {
     "data": {
      "text/plain": [
       "<bound method ThreadingMixIn.server_close of <pythonosc.osc_server.ThreadingOSCUDPServer object at 0x000001EE17E9CB48>>"
      ]
     },
     "execution_count": 5,
     "metadata": {},
     "output_type": "execute_result"
    }
   ],
   "source": [
    "server.shutdown\n",
    "server.server_close"
   ]
  },
  {
   "cell_type": "code",
   "execution_count": 8,
   "metadata": {},
   "outputs": [
    {
     "data": {
      "image/png": "[encoded data removed]",
      "text/plain": [
       "<Figure size 432x288 with 2 Axes>"
      ]
     },
     "metadata": {
      "needs_background": "light"
     },
     "output_type": "display_data"
    }
   ],
   "source": [
    "plt.figure()\n",
    "\n",
    "plt.subplot(211)\n",
    "plt.plot(data)\n",
    "plt.xlabel('Datos de pestañeos en tiempo real')\n",
    "\n",
    "plt.subplot(212)\n",
    "plt.plot(output)\n",
    "plt.xlabel('Salida predicha por el modelo')\n",
    "\n",
    "plt.subplots_adjust(top=1.2, left=0.10, right=0.95, hspace=0.3,wspace=0.35)\n",
    "plt.show()"
   ]
  },
  {
   "cell_type": "code",
   "execution_count": 14,
   "metadata": {},
   "outputs": [
    {
     "name": "stdout",
     "output_type": "stream",
     "text": [
      "\u001b[31mIzquierdo\u001b[0m\n",
      "\u001b[32mDerecho\u001b[0m\n",
      "\u001b[31mIzquierdo\u001b[0m\n",
      "\u001b[32mDerecho\u001b[0m\n",
      "\u001b[31mIzquierdo\u001b[0m\n",
      "\u001b[32mDerecho\u001b[0m\n"
     ]
    }
   ],
   "source": [
    "for size in range(len(output)):\n",
    "        if size>55:\n",
    "            if output[size-1]!=0 and np.sum(output[size-50:size-2])==0:\n",
    "                inicio=size\n",
    "            if output[size-1]==0 and np.sum(output[size-50:size-1])==0 and inicio!=0:\n",
    "                fin=size-50\n",
    "            if fin-inicio>50:\n",
    "                pestañeo = round(np.mean(output[inicio:fin]))\n",
    "                inicio=0\n",
    "                fin=0\n",
    "                if(pestañeo==1):\n",
    "                    print(colored('Izquierdo', 'red'))\n",
    "                if(pestañeo==2):\n",
    "                    print(colored('Derecho', 'green'))\n",
    "                pestañeo=0"
   ]
  },
  {
   "cell_type": "code",
   "execution_count": 8,
   "metadata": {},
   "outputs": [],
   "source": [
    "from pandas import DataFrame\n",
    "\n",
    "data = {'data':data}\n",
    "output = {'output': output}\n",
    "\n",
    "\n",
    "\n",
    "ab = DataFrame(data)\n",
    "cd = DataFrame(output)"
   ]
  },
  {
   "cell_type": "code",
   "execution_count": 9,
   "metadata": {},
   "outputs": [],
   "source": [
    "export_csv = ab.to_csv (r'data.csv')\n",
    "export_csv_1 = cd.to_csv (r'output.csv')\n"
   ]
  },
  {
   "cell_type": "code",
   "execution_count": null,
   "metadata": {},
   "outputs": [],
   "source": []
  }
 ],
 "metadata": {
  "accelerator": "GPU",
  "colab": {
   "collapsed_sections": [],
   "name": "EEG-Signal-Classification SVM 3 modelos.ipynb",
   "provenance": [],
   "version": "0.3.2"
  },
  "kernelspec": {
   "display_name": "Python 3",
   "language": "python",
   "name": "python3"
  },
  "language_info": {
   "codemirror_mode": {
    "name": "ipython",
    "version": 3
   },
   "file_extension": ".py",
   "mimetype": "text/x-python",
   "name": "python",
   "nbconvert_exporter": "python",
   "pygments_lexer": "ipython3",
   "version": "3.7.4"
  }
 },
 "nbformat": 4,
 "nbformat_minor": 1
}
